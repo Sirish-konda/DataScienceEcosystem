{
 "cells": [
  {
   "cell_type": "markdown",
   "id": "ec0a7de7-f170-49f4-abdd-f9c0c443cc87",
   "metadata": {
    "tags": []
   },
   "source": [
    "# Data Science Tools and Ecosystem"
   ]
  },
  {
   "cell_type": "markdown",
   "id": "d3ee1658-9f22-44a9-be11-3512a36e88f0",
   "metadata": {},
   "source": [
    "In this notebook, Data Science Tools and Ecosystem are summarized."
   ]
  },
  {
   "cell_type": "markdown",
   "id": "9732b1ce-7587-42aa-aa7d-c16f8bfd88c6",
   "metadata": {},
   "source": [
    "**Objectives**\n",
    "- List popular languages for Data Science\n",
    "- List commonly used libraries by Data Scientists\n",
    "- List Data Science Tools"
   ]
  },
  {
   "cell_type": "markdown",
   "id": "a3ae00fe-6afa-49e1-924a-f5dc299605d3",
   "metadata": {},
   "source": [
    "Some of the popular languages that data scientist use are:\n",
    "1. Python\n",
    "2. R\n",
    "3. Julia"
   ]
  },
  {
   "cell_type": "markdown",
   "id": "9305404c-a185-495f-9785-9f1ae646053a",
   "metadata": {},
   "source": [
    "Some of the commonly used libraries used by Data Scientists include:\n",
    "1. NumPy\n",
    "2. Pandas\n",
    "3. Scikit-Learn."
   ]
  },
  {
   "cell_type": "markdown",
   "id": "2e2878ea-91e8-449b-8749-60eb1b51e2d8",
   "metadata": {},
   "source": [
    "| Data Science Tools |\n",
    "|:------------------:|\n",
    "|Jupyter Notebook    |\n",
    "|MySql               |\n",
    "|GitHub              |"
   ]
  },
  {
   "cell_type": "code",
   "execution_count": 1,
   "id": "4bfd88a6-306e-4964-9a42-812f99a81fa6",
   "metadata": {
    "tags": []
   },
   "outputs": [
    {
     "data": {
      "text/plain": [
       "17"
      ]
     },
     "execution_count": 1,
     "metadata": {},
     "output_type": "execute_result"
    }
   ],
   "source": [
    "# This a simple arithmetic expression to mutiply then add integers\n",
    "(3*4)+5"
   ]
  },
  {
   "cell_type": "code",
   "execution_count": 2,
   "id": "9d5ec730-55fa-40e6-8a31-41aa2d044787",
   "metadata": {
    "tags": []
   },
   "outputs": [
    {
     "data": {
      "text/plain": [
       "3.3333333333333335"
      ]
     },
     "execution_count": 2,
     "metadata": {},
     "output_type": "execute_result"
    }
   ],
   "source": [
    "# This will convert 200 minutes to hours by diving by 60\n",
    "200/60"
   ]
  },
  {
   "cell_type": "markdown",
   "id": "2b3ff645-dc25-4333-88b8-675b7565b635",
   "metadata": {
    "tags": []
   },
   "source": [
    "## Arthur\n",
    "Sirish Konda"
   ]
  },
  {
   "cell_type": "code",
   "execution_count": null,
   "id": "d080cffd-a120-4849-a466-cfaf84eeada8",
   "metadata": {},
   "outputs": [],
   "source": []
  }
 ],
 "metadata": {
  "kernelspec": {
   "display_name": "Python",
   "language": "python",
   "name": "conda-env-python-py"
  },
  "language_info": {
   "codemirror_mode": {
    "name": "ipython",
    "version": 3
   },
   "file_extension": ".py",
   "mimetype": "text/x-python",
   "name": "python",
   "nbconvert_exporter": "python",
   "pygments_lexer": "ipython3",
   "version": "3.7.12"
  }
 },
 "nbformat": 4,
 "nbformat_minor": 5
}
